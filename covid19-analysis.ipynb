{
  "nbformat": 4,
  "nbformat_minor": 0,
  "metadata": {
    "colab": {
      "provenance": [],
      "authorship_tag": "ABX9TyP/+3MYKfN/kKVd2DCB+04l",
      "include_colab_link": true
    },
    "kernelspec": {
      "name": "python3",
      "display_name": "Python 3"
    },
    "language_info": {
      "name": "python"
    }
  },
  "cells": [
    {
      "cell_type": "markdown",
      "metadata": {
        "id": "view-in-github",
        "colab_type": "text"
      },
      "source": [
        "<a href=\"https://colab.research.google.com/github/GhanshyamRegar/covid19-analysis/blob/main/covid19-analysis.ipynb\" target=\"_parent\"><img src=\"https://colab.research.google.com/assets/colab-badge.svg\" alt=\"Open In Colab\"/></a>"
      ]
    },
    {
      "cell_type": "code",
      "execution_count": null,
      "metadata": {
        "id": "C2jDa750pcSU"
      },
      "outputs": [],
      "source": [
        "# COVID-19 Data Analysis Project\n",
        "\n",
        "# Step 1: Import required libraries\n",
        "import pandas as pd\n",
        "import numpy as np\n",
        "import matplotlib.pyplot as plt\n",
        "import seaborn as sns\n",
        "\n",
        "sns.set(style=\"whitegrid\")\n",
        "plt.rcParams[\"figure.figsize\"] = (12, 6)\n",
        "\n"
      ]
    },
    {
      "cell_type": "code",
      "source": [
        "#  Load datasets\n",
        "confirmed = pd.read_csv(\"data/covid19_Confirmed_dataset.csv\")\n",
        "deaths = pd.read_csv(\"data/covid19_deaths_dataset.csv\")\n",
        "happiness = pd.read_csv(\"data/worldwide_happiness_report.csv\")\n"
      ],
      "metadata": {
        "id": "-vqbCbuD1IT2"
      },
      "execution_count": null,
      "outputs": []
    },
    {
      "cell_type": "code",
      "source": [
        "#  Preview data\n",
        "print(\"Confirmed Cases Dataset\")\n",
        "print(confirmed.head())\n",
        "\n",
        "print(\"\\nDeaths Dataset\")\n",
        "print(deaths.head())\n",
        "\n",
        "print(\"\\nHappiness Dataset\")\n",
        "print(happiness.head())"
      ],
      "metadata": {
        "id": "Uu8axRjC1HCg"
      },
      "execution_count": null,
      "outputs": []
    },
    {
      "cell_type": "code",
      "source": [
        "#  Data Cleaning\n",
        "\n",
        "# Drop columns not needed\n",
        "confirmed.drop(columns=[\"Province/State\", \"Lat\", \"Long\"], inplace=True)\n",
        "deaths.drop(columns=[\"Province/State\", \"Lat\", \"Long\"], inplace=True)\n",
        "\n",
        "# Aggregate by country\n",
        "confirmed_total = confirmed.groupby(\"Country/Region\").sum().reset_index()\n",
        "deaths_total = deaths.groupby(\"Country/Region\").sum().reset_index()\n"
      ],
      "metadata": {
        "id": "zS_hWkkG1E1j"
      },
      "execution_count": null,
      "outputs": []
    },
    {
      "cell_type": "code",
      "source": [
        "# Calculate totals\n",
        "confirmed_total[\"Total Confirmed\"] = confirmed_total.iloc[:, 1:].sum(axis=1)\n",
        "deaths_total[\"Total Deaths\"] = deaths_total.iloc[:, 1:].sum(axis=1)"
      ],
      "metadata": {
        "id": "GYU6HSHg0_Ip"
      },
      "execution_count": null,
      "outputs": []
    },
    {
      "cell_type": "code",
      "source": [
        "# Merge confirmed and deaths\n",
        "covid_summary = pd.merge(\n",
        "    confirmed_total[[\"Country/Region\", \"Total Confirmed\"]],\n",
        "    deaths_total[[\"Country/Region\", \"Total Deaths\"]],\n",
        "    on=\"Country/Region\"\n",
        ")\n",
        "\n",
        "covid_summary[\"Death Rate (%)\"] = (covid_summary[\"Total Deaths\"] / covid_summary[\"Total Confirmed\"]) * 100"
      ],
      "metadata": {
        "id": "tx3N9V8S09RE"
      },
      "execution_count": null,
      "outputs": []
    },
    {
      "cell_type": "code",
      "source": [
        "# Rename columns for consistency\n",
        "covid_summary.rename(columns={\"Country/Region\": \"Country\"}, inplace=True)\n",
        "happiness.rename(columns={\"Country or region\": \"Country\"}, inplace=True)\n"
      ],
      "metadata": {
        "id": "Ao6sPVM707_O"
      },
      "execution_count": null,
      "outputs": []
    },
    {
      "cell_type": "code",
      "source": [
        "#  Merge with happiness data\n",
        "merged = pd.merge(covid_summary, happiness, on=\"Country\", how=\"inner\")\n",
        "\n",
        "# Correlation heatmap\n",
        "corr = merged.corr(numeric_only=True)\n",
        "sns.heatmap(corr, annot=True, cmap=\"coolwarm\")\n",
        "plt.title(\"Correlation Between COVID Impact & Happiness Factors\")\n",
        "plt.show()"
      ],
      "metadata": {
        "id": "Qe9Apisb05x2"
      },
      "execution_count": null,
      "outputs": []
    },
    {
      "cell_type": "code",
      "source": [
        "# Visualizations\n",
        "\n",
        "# Top 10 countries by confirmed cases\n",
        "top10_confirmed = covid_summary.sort_values(by=\"Total Confirmed\", ascending=False).head(10)\n",
        "sns.barplot(data=top10_confirmed, x=\"Total Confirmed\", y=\"Country\", palette=\"Reds_r\")\n",
        "plt.title(\"Top 10 Countries by Confirmed COVID-19 Cases\")\n",
        "plt.show()"
      ],
      "metadata": {
        "id": "I7zPMN_D03PQ"
      },
      "execution_count": null,
      "outputs": []
    },
    {
      "cell_type": "code",
      "source": [
        "# Top 10 by death rate (min 10000 cases to avoid small samples)\n",
        "top_death_rate = covid_summary[covid_summary[\"Total Confirmed\"] > 10000]\n",
        "top_death_rate = top_death_rate.sort_values(by=\"Death Rate (%)\", ascending=False).head(10)\n",
        "sns.barplot(data=top_death_rate, x=\"Death Rate (%)\", y=\"Country\", palette=\"Purples_r\")\n",
        "plt.title(\"Top 10 Countries by Death Rate (%)\")\n",
        "plt.show()"
      ],
      "metadata": {
        "id": "NQt2vfH80zS1"
      },
      "execution_count": null,
      "outputs": []
    },
    {
      "cell_type": "code",
      "source": [
        "# Happiness Score vs Death Rate\n",
        "sns.scatterplot(\n",
        "    data=merged,\n",
        "    x=\"Score\",\n",
        "    y=\"Death Rate (%)\",\n",
        "    hue=\"GDP per capita\",\n",
        "    size=\"Healthy life expectancy\",\n",
        "    palette=\"viridis\",\n",
        "    sizes=(20, 200)\n",
        ")\n",
        "plt.title(\"Happiness Score vs COVID-19 Death Rate\")\n",
        "plt.xlabel(\"Happiness Score (Score)\")\n",
        "plt.ylabel(\"Death Rate (%)\")\n",
        "plt.show()\n",
        "\n",
        "\n",
        "# Save merged data\n",
        "merged.to_csv(\"data/merged_covid_happiness.csv\", index=False)"
      ],
      "metadata": {
        "id": "cG92Tlhu01ZR"
      },
      "execution_count": null,
      "outputs": []
    }
  ]
}